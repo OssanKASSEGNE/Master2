{
 "cells": [
  {
   "cell_type": "markdown",
   "id": "9f9d3cca",
   "metadata": {},
   "source": [
    "## TP1 : Fouille de données supervisée"
   ]
  },
  {
   "cell_type": "raw",
   "id": "08e6dd51",
   "metadata": {},
   "source": []
  },
  {
   "cell_type": "code",
   "execution_count": 1,
   "id": "cb975653",
   "metadata": {},
   "outputs": [],
   "source": [
    "import matplotlib.pyplot as plt\n",
    "from sklearn import datasets #Datasets library\n",
    "import seaborn as sns"
   ]
  },
  {
   "cell_type": "code",
   "execution_count": 2,
   "id": "e1ee0868",
   "metadata": {},
   "outputs": [],
   "source": [
    "# import du dataset iris\n",
    "iris = datasets.load_iris()"
   ]
  },
  {
   "cell_type": "code",
   "execution_count": 3,
   "id": "b3c36734",
   "metadata": {},
   "outputs": [
    {
     "name": "stdout",
     "output_type": "stream",
     "text": [
      "Features :  ['sepal length (cm)', 'sepal width (cm)', 'petal length (cm)', 'petal width (cm)']\n",
      "Labels:  ['setosa' 'versicolor' 'virginica']\n",
      "(150, 4) (150,)\n"
     ]
    }
   ],
   "source": [
    "# What are the features?\n",
    "print(\"Features : \", iris.feature_names)\n",
    "# What are the labels?\n",
    "print(\"Labels: \", iris.target_names)\n",
    "#\n",
    "X = iris.data\n",
    "Y = iris.target\n",
    "print(X.shape,Y.shape)\n"
   ]
  },
  {
   "cell_type": "code",
   "execution_count": 4,
   "id": "ea6ef0bd",
   "metadata": {},
   "outputs": [],
   "source": [
    "from sklearn.model_selection import train_test_split\n",
    "# How to split the data set, use train_test_split (3 param)\n",
    "# random_state = seed for shuffling\n",
    "X_train, X_test, y_train, y_test = train_test_split(iris.data, iris.target, test_size=0.3,random_state= 109)"
   ]
  },
  {
   "cell_type": "markdown",
   "id": "d77986d5",
   "metadata": {},
   "source": [
    "## Model 1 :  SVM"
   ]
  },
  {
   "cell_type": "code",
   "execution_count": 5,
   "id": "173fbfcf",
   "metadata": {},
   "outputs": [],
   "source": [
    "# Generate a Model : SVM\n",
    "# principle SVM module and create support vector classifier object by passing argument kernel as the linear kernel in SVC() function.\n",
    "\n",
    "# 1 - Import SVM module\n",
    "from sklearn import svm\n",
    "\n",
    "# 2 - Create a svm Classifier\n",
    "clf = svm.SVC(kernel='linear') #kernel linear\n",
    "\n",
    "# 3 - Train the model with training sets\n",
    "clf.fit(X_train, y_train)\n",
    "\n",
    "# 4 - Predict the response for the test dataset\n",
    "y_pred = clf.predict(X_test)"
   ]
  },
  {
   "cell_type": "markdown",
   "id": "6fae0a9e",
   "metadata": {},
   "source": [
    "### Evaluation of the model"
   ]
  },
  {
   "cell_type": "raw",
   "id": "9deddf67",
   "metadata": {},
   "source": [
    "How accurately the SVM model can predict the type of flower?"
   ]
  },
  {
   "cell_type": "code",
   "execution_count": 6,
   "id": "3d99c9ef",
   "metadata": {},
   "outputs": [],
   "source": [
    "#Import scikit-learn metrics module for accuracy calculation\n",
    "from sklearn import metrics\n",
    "from sklearn.metrics import confusion_matrix"
   ]
  },
  {
   "cell_type": "code",
   "execution_count": 7,
   "id": "e0f87a3b",
   "metadata": {},
   "outputs": [
    {
     "name": "stdout",
     "output_type": "stream",
     "text": [
      "Accuracy: 0.9555555555555556\n",
      "Precision: 0.9629629629629629\n",
      "Recall: 0.9607843137254902\n"
     ]
    }
   ],
   "source": [
    "a1 = metrics.accuracy_score(y_test, y_pred)\n",
    "print(\"Accuracy:\",a1)\n",
    "# Model Precision: The precision is intuitively the ability of the classifier not to label as positive a sample that is negative.\n",
    "p1 = metrics.precision_score(y_test, y_pred,average='macro')\n",
    "print(\"Precision:\",p1)\n",
    "\n",
    "\n",
    "# Model Recall: The recall is intuitively the ability of the classifier to find all the positive samples.\n",
    "r1 = metrics.recall_score(y_test, y_pred,average='macro')\n",
    "print(\"Recall:\",r1)\n",
    "\n"
   ]
  },
  {
   "cell_type": "code",
   "execution_count": 8,
   "id": "41370427",
   "metadata": {},
   "outputs": [],
   "source": [
    "def matrix():\n",
    "    ax = plt.subplot()\n",
    "    confusion_matrix(y_test, y_pred)\n",
    "    matrice = confusion_matrix(y_test, y_pred)\n",
    "    matrice2 =  matrice / (y_test.size)\n",
    "    sns.heatmap(matrice, annot=True, ax = ax)\n",
    "    ax.set_xlabel('Classe prédite')\n",
    "    ax.set_ylabel('Vraie classe')\n",
    "    ax.set_title('Matrice de confusion')\n",
    "    ax.xaxis.set_ticklabels(['classe 0', 'classe 1', 'classe 2'])\n",
    "    ax.yaxis.set_ticklabels(['classe 0', 'classe 1', 'classe 2'])\n",
    "\n",
    "    plt.show()\n",
    "    ax1 = plt.subplot()\n",
    "    sns.heatmap(matrice2, annot=True, ax = ax1)\n",
    "    plt.xlabel('Classe prédite')\n",
    "    plt.ylabel('Vraie classe')\n",
    "    plt.title('Matrice de confusion normalisée')"
   ]
  },
  {
   "cell_type": "code",
   "execution_count": 9,
   "id": "a345b4fc",
   "metadata": {},
   "outputs": [
    {
     "data": {
      "image/png": "[encoded data removed]",
      "text/plain": [
       "<Figure size 432x288 with 2 Axes>"
      ]
     },
     "metadata": {
      "needs_background": "light"
     },
     "output_type": "display_data"
    },
    {
     "data": {
      "image/png": "[encoded data removed]",
      "text/plain": [
       "<Figure size 432x288 with 2 Axes>"
      ]
     },
     "metadata": {
      "needs_background": "light"
     },
     "output_type": "display_data"
    }
   ],
   "source": [
    "matrix()"
   ]
  },
  {
   "cell_type": "markdown",
   "id": "21b9665b",
   "metadata": {},
   "source": [
    "## Model 2 : Gaussian Naive Bayes model"
   ]
  },
  {
   "cell_type": "code",
   "execution_count": 10,
   "id": "95f3e764",
   "metadata": {},
   "outputs": [],
   "source": [
    "# 1 - Import Gaussian Naive Bayes model\n",
    "from sklearn.naive_bayes import GaussianNB\n",
    "\n",
    "# 2 - Create a Gaussian Classifier\n",
    "gnb = GaussianNB()\n",
    "\n",
    "# 3 - Train the model using the training sets\n",
    "gnb.fit(X_train,y_train)\n",
    "\n",
    "# 4 - Predicit Output\n",
    "y_pred = gnb.predict(X_test)\n"
   ]
  },
  {
   "cell_type": "code",
   "execution_count": 11,
   "id": "4853d6ca",
   "metadata": {},
   "outputs": [
    {
     "name": "stdout",
     "output_type": "stream",
     "text": [
      "Accuracy: 0.9555555555555556\n",
      "Precision: 0.9595588235294118\n",
      "Recall: 0.9595588235294118\n"
     ]
    },
    {
     "data": {
      "text/plain": [
       "array([[12,  0,  0],\n",
       "       [ 0, 16,  1],\n",
       "       [ 0,  1, 15]])"
      ]
     },
     "execution_count": 11,
     "metadata": {},
     "output_type": "execute_result"
    }
   ],
   "source": [
    "a2 = metrics.accuracy_score(y_test, y_pred)\n",
    "print(\"Accuracy:\",a2)\n",
    "# Model Precision: The precision is intuitively the ability of the classifier not to label as positive a sample that is negative.\n",
    "p2 = metrics.precision_score(y_test, y_pred,average='macro')\n",
    "print(\"Precision:\",p2)\n",
    "\n",
    "\n",
    "# Model Recall: The recall is intuitively the ability of the classifier to find all the positive samples.\n",
    "r2 = metrics.recall_score(y_test, y_pred,average='macro')\n",
    "print(\"Recall:\",r2)\n",
    "confusion_matrix(y_test, y_pred)"
   ]
  },
  {
   "cell_type": "code",
   "execution_count": 12,
   "id": "6a23fa45",
   "metadata": {},
   "outputs": [
    {
     "data": {
      "image/png": "[encoded data removed]",
      "text/plain": [
       "<Figure size 432x288 with 2 Axes>"
      ]
     },
     "metadata": {
      "needs_background": "light"
     },
     "output_type": "display_data"
    },
    {
     "data": {
      "image/png": "[encoded data removed]",
      "text/plain": [
       "<Figure size 432x288 with 2 Axes>"
      ]
     },
     "metadata": {
      "needs_background": "light"
     },
     "output_type": "display_data"
    }
   ],
   "source": [
    "matrix()"
   ]
  },
  {
   "cell_type": "markdown",
   "id": "d6f9a0c1",
   "metadata": {},
   "source": [
    "##  Model 3 : Decision tree classifier"
   ]
  },
  {
   "cell_type": "code",
   "execution_count": 13,
   "id": "dc1cacca",
   "metadata": {},
   "outputs": [],
   "source": [
    "# 1 - Import the decision tree classifier\n",
    "from sklearn.tree import DecisionTreeClassifier\n",
    "treeClf = DecisionTreeClassifier()\n",
    "\n",
    "# 2 - Train Decision Tree Classifer\n",
    "treeClf = clf.fit(X_train,y_train)\n",
    "\n",
    "# 3 - Predict the response for test dataset\n",
    "y_pred = clf.predict(X_test)"
   ]
  },
  {
   "cell_type": "code",
   "execution_count": 14,
   "id": "7fab5ee3",
   "metadata": {},
   "outputs": [
    {
     "name": "stdout",
     "output_type": "stream",
     "text": [
      "Accuracy: 0.9555555555555556\n",
      "Precision: 0.9629629629629629\n",
      "Recall: 0.9607843137254902\n"
     ]
    },
    {
     "data": {
      "text/plain": [
       "array([[12,  0,  0],\n",
       "       [ 0, 15,  2],\n",
       "       [ 0,  0, 16]])"
      ]
     },
     "execution_count": 14,
     "metadata": {},
     "output_type": "execute_result"
    }
   ],
   "source": [
    "a3 = metrics.accuracy_score(y_test, y_pred)\n",
    "print(\"Accuracy:\",a3)\n",
    "p3 = metrics.precision_score(y_test, y_pred,average='macro')\n",
    "print(\"Precision:\",p3)\n",
    "\n",
    "\n",
    "# Model Recall: The recall is intuitively the ability of the classifier to find all the positive samples.\n",
    "r3 = metrics.recall_score(y_test, y_pred,average='macro')\n",
    "print(\"Recall:\",r3)\n",
    "confusion_matrix(y_test, y_pred)"
   ]
  },
  {
   "cell_type": "code",
   "execution_count": 15,
   "id": "17e79223",
   "metadata": {},
   "outputs": [
    {
     "data": {
      "image/png": "[encoded data removed]",
      "text/plain": [
       "<Figure size 432x288 with 2 Axes>"
      ]
     },
     "metadata": {
      "needs_background": "light"
     },
     "output_type": "display_data"
    },
    {
     "data": {
      "image/png": "[encoded data removed]",
      "text/plain": [
       "<Figure size 432x288 with 2 Axes>"
      ]
     },
     "metadata": {
      "needs_background": "light"
     },
     "output_type": "display_data"
    }
   ],
   "source": [
    "matrix()"
   ]
  },
  {
   "cell_type": "markdown",
   "id": "180f1c6c",
   "metadata": {},
   "source": [
    "## Conclusion"
   ]
  },
  {
   "cell_type": "code",
   "execution_count": 16,
   "id": "3f349793",
   "metadata": {},
   "outputs": [],
   "source": [
    "import pandas as pd\n",
    "d = {'Model': ['SVM', 'Naive Bayes', 'Decision Tree'], 'accuracy': [a1, a2, a3], 'precision': [p1, p2, p3], 'recall': [r1, r2, r3]}\n",
    "df = pd"
   ]
  },
  {
   "cell_type": "code",
   "execution_count": 17,
   "id": "e675bbb4",
   "metadata": {},
   "outputs": [
    {
     "name": "stdout",
     "output_type": "stream",
     "text": [
      "           Model  accuracy  precision    recall\n",
      "0            SVM  0.955556   0.962963  0.960784\n",
      "1    Naive Bayes  0.955556   0.959559  0.959559\n",
      "2  Decision Tree  0.955556   0.962963  0.960784\n"
     ]
    }
   ],
   "source": [
    "df = pd.DataFrame(data=d)\n",
    "print(df)"
   ]
  },
  {
   "cell_type": "raw",
   "id": "becb6723",
   "metadata": {},
   "source": [
    "The models are trained and tested on the same data, each model is highly accurate. The decision tree classifier is slightly better."
   ]
  }
 ],
 "metadata": {
  "kernelspec": {
   "display_name": "Python 3",
   "language": "python",
   "name": "python3"
  },
  "language_info": {
   "codemirror_mode": {
    "name": "ipython",
    "version": 3
   },
   "file_extension": ".py",
   "mimetype": "text/x-python",
   "name": "python",
   "nbconvert_exporter": "python",
   "pygments_lexer": "ipython3",
   "version": "3.8.10"
  }
 },
 "nbformat": 4,
 "nbformat_minor": 5
}
