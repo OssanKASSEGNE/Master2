{
 "cells": [
  {
   "cell_type": "markdown",
   "id": "9f9d3cca",
   "metadata": {},
   "source": [
    "## TP1 : Fouille de données supervisée"
   ]
  },
  {
   "cell_type": "raw",
   "id": "89a9f833",
   "metadata": {},
   "source": []
  },
  {
   "cell_type": "code",
   "execution_count": 1,
   "id": "cb975653",
   "metadata": {},
   "outputs": [],
   "source": [
    "import matplotlib.pyplot as plt\n",
    "from sklearn import datasets #Datasets library\n"
   ]
  },
  {
   "cell_type": "code",
   "execution_count": 2,
   "id": "e1ee0868",
   "metadata": {},
   "outputs": [],
   "source": [
    "# import du dataset iris\n",
    "iris = datasets.load_iris()"
   ]
  },
  {
   "cell_type": "code",
   "execution_count": 3,
   "id": "b3c36734",
   "metadata": {},
   "outputs": [
    {
     "name": "stdout",
     "output_type": "stream",
     "text": [
      "Features :  ['sepal length (cm)', 'sepal width (cm)', 'petal length (cm)', 'petal width (cm)']\n",
      "Labels:  ['setosa' 'versicolor' 'virginica']\n",
      "(150, 4) (150,)\n"
     ]
    }
   ],
   "source": [
    "# What are the features?\n",
    "print(\"Features : \", iris.feature_names)\n",
    "# What are the labels?\n",
    "print(\"Labels: \", iris.target_names)\n",
    "#\n",
    "X = iris.data\n",
    "Y = iris.target\n",
    "print(X.shape,Y.shape)\n"
   ]
  },
  {
   "cell_type": "code",
   "execution_count": 4,
   "id": "ea6ef0bd",
   "metadata": {},
   "outputs": [],
   "source": [
    "from sklearn.model_selection import train_test_split\n",
    "# How to split the data set, use train_test_split (3 param)\n",
    "# random_state = seed for shuffling\n",
    "X_train, X_test, y_train, y_test = train_test_split(iris.data, iris.target, test_size=0.3,random_state= 109)"
   ]
  },
  {
   "cell_type": "markdown",
   "id": "7850bfda",
   "metadata": {},
   "source": [
    "## Model 1 :  SVM"
   ]
  },
  {
   "cell_type": "code",
   "execution_count": 5,
   "id": "173fbfcf",
   "metadata": {},
   "outputs": [],
   "source": [
    "# Generate a Model : SVM\n",
    "# principle SVM module and create support vector classifier object by passing argument kernel as the linear kernel in SVC() function.\n",
    "\n",
    "# 1 - Import SVM module\n",
    "from sklearn import svm\n",
    "\n",
    "# 2 - Create a svm Classifier\n",
    "clf = svm.SVC(kernel='linear') #kernel linear\n",
    "\n",
    "# 3 - Train the model with training sets\n",
    "clf.fit(X_train, y_train)\n",
    "\n",
    "# 4 - Predict the response for the test dataset\n",
    "y_pred = clf.predict(X_test)"
   ]
  },
  {
   "cell_type": "markdown",
   "id": "a512e7ef",
   "metadata": {},
   "source": [
    "### Evaluation of the model"
   ]
  },
  {
   "cell_type": "raw",
   "id": "143564fb",
   "metadata": {},
   "source": [
    "How accurately the SVM model can predict the type of flower?"
   ]
  },
  {
   "cell_type": "code",
   "execution_count": 6,
   "id": "49c973ab",
   "metadata": {},
   "outputs": [
    {
     "name": "stdout",
     "output_type": "stream",
     "text": [
      "Accuracy: 0.9555555555555556\n"
     ]
    }
   ],
   "source": [
    "#Import scikit-learn metrics module for accuracy calculation\n",
    "from sklearn import metrics\n",
    "\n",
    "print(\"Accuracy:\",metrics.accuracy_score(y_test, y_pred))"
   ]
  },
  {
   "cell_type": "raw",
   "id": "728df4af",
   "metadata": {},
   "source": [
    "With SVM, we got a classification rate of 95.55%, SVM is highly accurate."
   ]
  },
  {
   "cell_type": "code",
   "execution_count": 13,
   "id": "764c25af",
   "metadata": {},
   "outputs": [
    {
     "name": "stdout",
     "output_type": "stream",
     "text": [
      "Precision: 0.9629629629629629\n",
      "Recall: 0.9607843137254902\n"
     ]
    }
   ],
   "source": [
    "a1 = metrics.accuracy_score(y_test, y_pred)\n",
    "print(\"Accuracy:\",a1)\n",
    "# Model Precision: The precision is intuitively the ability of the classifier not to label as positive a sample that is negative.\n",
    "p1 = metrics.precision_score(y_test, y_pred,average='macro')\n",
    "print(\"Precision:\",p1)\n",
    "\n",
    "\n",
    "# Model Recall: The recall is intuitively the ability of the classifier to find all the positive samples.\n",
    "r1 = metrics.recall_score(y_test, y_pred,average='macro')\n",
    "print(\"Recall:\",r1)\n",
    "\n"
   ]
  },
  {
   "cell_type": "code",
   "execution_count": 8,
   "id": "486e9872",
   "metadata": {},
   "outputs": [
    {
     "name": "stdout",
     "output_type": "stream",
     "text": [
      "Precision: 0.9629629629629629\n",
      "Recall: 0.9607843137254902\n"
     ]
    }
   ],
   "source": [
    "evaluate()"
   ]
  },
  {
   "cell_type": "markdown",
   "id": "4392f997",
   "metadata": {},
   "source": [
    "## Model 2 : Gaussian Naive Bayes model"
   ]
  },
  {
   "cell_type": "code",
   "execution_count": 9,
   "id": "05588f3d",
   "metadata": {},
   "outputs": [],
   "source": [
    "# 1 - Import Gaussian Naive Bayes model\n",
    "from sklearn.naive_bayes import GaussianNB\n",
    "\n",
    "# 2 - Create a Gaussian Classifier\n",
    "gnb = GaussianNB()\n",
    "\n",
    "# 3 - Train the model using the training sets\n",
    "gnb.fit(X_train,y_train)\n",
    "\n",
    "# 4 - Predicit Output\n",
    "y_pred = gnb.predict(X_test)\n"
   ]
  },
  {
   "cell_type": "code",
   "execution_count": 10,
   "id": "f3df3916",
   "metadata": {},
   "outputs": [
    {
     "name": "stdout",
     "output_type": "stream",
     "text": [
      "Accuracy: 0.9555555555555556\n",
      "Precision: 0.9595588235294118\n",
      "Recall: 0.9595588235294118\n"
     ]
    }
   ],
   "source": [
    "a2 = metrics.accuracy_score(y_test, y_pred)\n",
    "print(\"Accuracy:\",a2)\n",
    "# Model Precision: The precision is intuitively the ability of the classifier not to label as positive a sample that is negative.\n",
    "p2 = metrics.precision_score(y_test, y_pred,average='macro')\n",
    "print(\"Precision:\",p2)\n",
    "\n",
    "\n",
    "# Model Recall: The recall is intuitively the ability of the classifier to find all the positive samples.\n",
    "r2 = metrics.recall_score(y_test, y_pred,average='macro')\n",
    "print(\"Recall:\",r2)"
   ]
  },
  {
   "cell_type": "markdown",
   "id": "dba089d3",
   "metadata": {},
   "source": [
    "##  Model 3 : Decision tree classifier"
   ]
  },
  {
   "cell_type": "code",
   "execution_count": 11,
   "id": "076219d7",
   "metadata": {},
   "outputs": [],
   "source": [
    "# 1 - Import the decision tree classifier\n",
    "from sklearn.tree import DecisionTreeClassifier\n",
    "treeClf = DecisionTreeClassifier()\n",
    "\n",
    "# 2 - Train Decision Tree Classifer\n",
    "treeClf = clf.fit(X_train,y_train)\n",
    "\n",
    "# 3 - Predict the response for test dataset\n",
    "y_pred = clf.predict(X_test)"
   ]
  },
  {
   "cell_type": "code",
   "execution_count": 14,
   "id": "c5d86f1d",
   "metadata": {},
   "outputs": [
    {
     "name": "stdout",
     "output_type": "stream",
     "text": [
      "Accuracy: 0.9555555555555556\n",
      "Precision: 0.9629629629629629\n",
      "Recall: 0.9607843137254902\n"
     ]
    }
   ],
   "source": [
    "a3 = metrics.accuracy_score(y_test, y_pred)\n",
    "print(\"Accuracy:\",a3)\n",
    "p3 = metrics.precision_score(y_test, y_pred,average='macro')\n",
    "print(\"Precision:\",p3)\n",
    "\n",
    "\n",
    "# Model Recall: The recall is intuitively the ability of the classifier to find all the positive samples.\n",
    "r3 = metrics.recall_score(y_test, y_pred,average='macro')\n",
    "print(\"Recall:\",r3)"
   ]
  },
  {
   "cell_type": "code",
   "execution_count": null,
   "id": "45060c8c",
   "metadata": {},
   "outputs": [],
   "source": []
  }
 ],
 "metadata": {
  "kernelspec": {
   "display_name": "Python 3",
   "language": "python",
   "name": "python3"
  },
  "language_info": {
   "codemirror_mode": {
    "name": "ipython",
    "version": 3
   },
   "file_extension": ".py",
   "mimetype": "text/x-python",
   "name": "python",
   "nbconvert_exporter": "python",
   "pygments_lexer": "ipython3",
   "version": "3.8.10"
  }
 },
 "nbformat": 4,
 "nbformat_minor": 5
}
