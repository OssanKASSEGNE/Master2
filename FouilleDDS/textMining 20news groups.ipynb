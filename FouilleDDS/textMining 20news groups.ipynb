{
 "cells": [
  {
   "cell_type": "markdown",
   "id": "4dff00b1",
   "metadata": {},
   "source": [
    "# TP1  DEFT 2017"
   ]
  },
  {
   "cell_type": "code",
   "execution_count": null,
   "id": "2d97df8c",
   "metadata": {},
   "outputs": [],
   "source": [
    "from sklearn.datasets import fetch_20newsgroups\n",
    "\n",
    "train = fetch_20newsgroups(subset = 'train', shuffle = True)\n",
    "\n",
    "print(train)"
   ]
  },
  {
   "cell_type": "code",
   "execution_count": null,
   "id": "0680da1d",
   "metadata": {},
   "outputs": [],
   "source": [
    "train.target_names #prints all the categories\n",
    "print(\"\\n\".join(twenty_train.data[0].split(\"\\n\")[:3])) #prints first line of the first data file"
   ]
  },
  {
   "cell_type": "code",
   "execution_count": 5,
   "id": "d113b58a",
   "metadata": {},
   "outputs": [
    {
     "data": {
      "text/plain": [
       "(11314, 130107)"
      ]
     },
     "execution_count": 5,
     "metadata": {},
     "output_type": "execute_result"
    }
   ],
   "source": [
    "from sklearn.feature_extraction.text import CountVectorizer\n",
    "count_vect = CountVectorizer()\n",
    "X_train_counts = count_vect.fit_transform(train.data)\n",
    "X_train_counts.shape"
   ]
  },
  {
   "cell_type": "code",
   "execution_count": 6,
   "id": "81da1bf7",
   "metadata": {},
   "outputs": [
    {
     "name": "stdout",
     "output_type": "stream",
     "text": [
      "  (0, 56979)\t3\n",
      "  (0, 75358)\t2\n",
      "  (0, 123162)\t2\n",
      "  (0, 118280)\t2\n",
      "  (0, 50527)\t2\n",
      "  (0, 124031)\t2\n",
      "  (0, 85354)\t1\n",
      "  (0, 114688)\t1\n",
      "  (0, 111322)\t1\n",
      "  (0, 123984)\t1\n",
      "  (0, 37780)\t5\n",
      "  (0, 68532)\t3\n",
      "  (0, 114731)\t5\n",
      "  (0, 87620)\t1\n",
      "  (0, 95162)\t1\n",
      "  (0, 64095)\t1\n",
      "  (0, 98949)\t1\n",
      "  (0, 90379)\t1\n",
      "  (0, 118983)\t1\n",
      "  (0, 89362)\t3\n",
      "  (0, 79666)\t1\n",
      "  (0, 40998)\t1\n",
      "  (0, 92081)\t1\n",
      "  (0, 76032)\t1\n",
      "  (0, 4605)\t1\n",
      "  :\t:\n",
      "  (11313, 110796)\t2\n",
      "  (11313, 106209)\t1\n",
      "  (11313, 31386)\t1\n",
      "  (11313, 124103)\t1\n",
      "  (11313, 116027)\t1\n",
      "  (11313, 33941)\t1\n",
      "  (11313, 107339)\t1\n",
      "  (11313, 101950)\t1\n",
      "  (11313, 109661)\t1\n",
      "  (11313, 82480)\t1\n",
      "  (11313, 38329)\t2\n",
      "  (11313, 94524)\t1\n",
      "  (11313, 27696)\t1\n",
      "  (11313, 113435)\t1\n",
      "  (11313, 82355)\t1\n",
      "  (11313, 38325)\t1\n",
      "  (11313, 94291)\t1\n",
      "  (11313, 115621)\t1\n",
      "  (11313, 75884)\t1\n",
      "  (11313, 60910)\t2\n",
      "  (11313, 72419)\t1\n",
      "  (11313, 72881)\t1\n",
      "  (11313, 70020)\t1\n",
      "  (11313, 8653)\t1\n",
      "  (11313, 124370)\t1\n"
     ]
    }
   ],
   "source": [
    "print(X_train_counts)"
   ]
  },
  {
   "cell_type": "code",
   "execution_count": null,
   "id": "c1f859f9",
   "metadata": {},
   "outputs": [],
   "source": []
  }
 ],
 "metadata": {
  "kernelspec": {
   "display_name": "Python 3",
   "language": "python",
   "name": "python3"
  },
  "language_info": {
   "codemirror_mode": {
    "name": "ipython",
    "version": 3
   },
   "file_extension": ".py",
   "mimetype": "text/x-python",
   "name": "python",
   "nbconvert_exporter": "python",
   "pygments_lexer": "ipython3",
   "version": "3.8.10"
  }
 },
 "nbformat": 4,
 "nbformat_minor": 5
}
